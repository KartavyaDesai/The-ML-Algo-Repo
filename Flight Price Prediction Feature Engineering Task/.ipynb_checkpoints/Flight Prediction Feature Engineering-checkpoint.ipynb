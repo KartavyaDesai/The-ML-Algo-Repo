{
 "cells": [
  {
   "cell_type": "code",
   "execution_count": 1,
   "id": "2bbc8d3e",
   "metadata": {},
   "outputs": [],
   "source": [
    "#importing various libs\n",
    "import pandas as pd\n",
    "import numpy as np\n",
    "import seaborn as sns\n",
    "import matplotlib.pyplot as plt\n",
    "%matplotlib inline\n",
    "plt.rcParams[\"figure.figsize\"] = [12,6]"
   ]
  },
  {
   "cell_type": "code",
   "execution_count": 2,
   "id": "e7bd0dbc",
   "metadata": {},
   "outputs": [],
   "source": [
    "data_train = pd.read_excel(\"Data_Train.xlsx\")\n",
    "data_test = pd.read_excel(\"Test_set.xlsx\")"
   ]
  },
  {
   "cell_type": "code",
   "execution_count": 3,
   "id": "debd8961",
   "metadata": {},
   "outputs": [],
   "source": [
    "df_ = pd.concat([data_train, data_test])"
   ]
  },
  {
   "cell_type": "code",
   "execution_count": 4,
   "id": "a160223b",
   "metadata": {},
   "outputs": [
    {
     "data": {
      "text/html": [
       "<div>\n",
       "<style scoped>\n",
       "    .dataframe tbody tr th:only-of-type {\n",
       "        vertical-align: middle;\n",
       "    }\n",
       "\n",
       "    .dataframe tbody tr th {\n",
       "        vertical-align: top;\n",
       "    }\n",
       "\n",
       "    .dataframe thead th {\n",
       "        text-align: right;\n",
       "    }\n",
       "</style>\n",
       "<table border=\"1\" class=\"dataframe\">\n",
       "  <thead>\n",
       "    <tr style=\"text-align: right;\">\n",
       "      <th></th>\n",
       "      <th>Airline</th>\n",
       "      <th>Date_of_Journey</th>\n",
       "      <th>Source</th>\n",
       "      <th>Destination</th>\n",
       "      <th>Route</th>\n",
       "      <th>Dep_Time</th>\n",
       "      <th>Arrival_Time</th>\n",
       "      <th>Duration</th>\n",
       "      <th>Total_Stops</th>\n",
       "      <th>Additional_Info</th>\n",
       "      <th>Price</th>\n",
       "    </tr>\n",
       "  </thead>\n",
       "  <tbody>\n",
       "    <tr>\n",
       "      <th>0</th>\n",
       "      <td>IndiGo</td>\n",
       "      <td>24/03/2019</td>\n",
       "      <td>Banglore</td>\n",
       "      <td>New Delhi</td>\n",
       "      <td>BLR → DEL</td>\n",
       "      <td>22:20</td>\n",
       "      <td>01:10 22 Mar</td>\n",
       "      <td>2h 50m</td>\n",
       "      <td>non-stop</td>\n",
       "      <td>No info</td>\n",
       "      <td>3897.0</td>\n",
       "    </tr>\n",
       "    <tr>\n",
       "      <th>1</th>\n",
       "      <td>Air India</td>\n",
       "      <td>1/05/2019</td>\n",
       "      <td>Kolkata</td>\n",
       "      <td>Banglore</td>\n",
       "      <td>CCU → IXR → BBI → BLR</td>\n",
       "      <td>05:50</td>\n",
       "      <td>13:15</td>\n",
       "      <td>7h 25m</td>\n",
       "      <td>2 stops</td>\n",
       "      <td>No info</td>\n",
       "      <td>7662.0</td>\n",
       "    </tr>\n",
       "    <tr>\n",
       "      <th>2</th>\n",
       "      <td>Jet Airways</td>\n",
       "      <td>9/06/2019</td>\n",
       "      <td>Delhi</td>\n",
       "      <td>Cochin</td>\n",
       "      <td>DEL → LKO → BOM → COK</td>\n",
       "      <td>09:25</td>\n",
       "      <td>04:25 10 Jun</td>\n",
       "      <td>19h</td>\n",
       "      <td>2 stops</td>\n",
       "      <td>No info</td>\n",
       "      <td>13882.0</td>\n",
       "    </tr>\n",
       "    <tr>\n",
       "      <th>3</th>\n",
       "      <td>IndiGo</td>\n",
       "      <td>12/05/2019</td>\n",
       "      <td>Kolkata</td>\n",
       "      <td>Banglore</td>\n",
       "      <td>CCU → NAG → BLR</td>\n",
       "      <td>18:05</td>\n",
       "      <td>23:30</td>\n",
       "      <td>5h 25m</td>\n",
       "      <td>1 stop</td>\n",
       "      <td>No info</td>\n",
       "      <td>6218.0</td>\n",
       "    </tr>\n",
       "    <tr>\n",
       "      <th>4</th>\n",
       "      <td>IndiGo</td>\n",
       "      <td>01/03/2019</td>\n",
       "      <td>Banglore</td>\n",
       "      <td>New Delhi</td>\n",
       "      <td>BLR → NAG → DEL</td>\n",
       "      <td>16:50</td>\n",
       "      <td>21:35</td>\n",
       "      <td>4h 45m</td>\n",
       "      <td>1 stop</td>\n",
       "      <td>No info</td>\n",
       "      <td>13302.0</td>\n",
       "    </tr>\n",
       "  </tbody>\n",
       "</table>\n",
       "</div>"
      ],
      "text/plain": [
       "       Airline Date_of_Journey    Source Destination                  Route  \\\n",
       "0       IndiGo      24/03/2019  Banglore   New Delhi              BLR → DEL   \n",
       "1    Air India       1/05/2019   Kolkata    Banglore  CCU → IXR → BBI → BLR   \n",
       "2  Jet Airways       9/06/2019     Delhi      Cochin  DEL → LKO → BOM → COK   \n",
       "3       IndiGo      12/05/2019   Kolkata    Banglore        CCU → NAG → BLR   \n",
       "4       IndiGo      01/03/2019  Banglore   New Delhi        BLR → NAG → DEL   \n",
       "\n",
       "  Dep_Time  Arrival_Time Duration Total_Stops Additional_Info    Price  \n",
       "0    22:20  01:10 22 Mar   2h 50m    non-stop         No info   3897.0  \n",
       "1    05:50         13:15   7h 25m     2 stops         No info   7662.0  \n",
       "2    09:25  04:25 10 Jun      19h     2 stops         No info  13882.0  \n",
       "3    18:05         23:30   5h 25m      1 stop         No info   6218.0  \n",
       "4    16:50         21:35   4h 45m      1 stop         No info  13302.0  "
      ]
     },
     "execution_count": 4,
     "metadata": {},
     "output_type": "execute_result"
    }
   ],
   "source": [
    "df_.head()"
   ]
  },
  {
   "cell_type": "code",
   "execution_count": 5,
   "id": "d7ed0c39",
   "metadata": {},
   "outputs": [
    {
     "data": {
      "text/html": [
       "<div>\n",
       "<style scoped>\n",
       "    .dataframe tbody tr th:only-of-type {\n",
       "        vertical-align: middle;\n",
       "    }\n",
       "\n",
       "    .dataframe tbody tr th {\n",
       "        vertical-align: top;\n",
       "    }\n",
       "\n",
       "    .dataframe thead th {\n",
       "        text-align: right;\n",
       "    }\n",
       "</style>\n",
       "<table border=\"1\" class=\"dataframe\">\n",
       "  <thead>\n",
       "    <tr style=\"text-align: right;\">\n",
       "      <th></th>\n",
       "      <th>Price</th>\n",
       "    </tr>\n",
       "  </thead>\n",
       "  <tbody>\n",
       "    <tr>\n",
       "      <th>count</th>\n",
       "      <td>10683.000000</td>\n",
       "    </tr>\n",
       "    <tr>\n",
       "      <th>mean</th>\n",
       "      <td>9087.064121</td>\n",
       "    </tr>\n",
       "    <tr>\n",
       "      <th>std</th>\n",
       "      <td>4611.359167</td>\n",
       "    </tr>\n",
       "    <tr>\n",
       "      <th>min</th>\n",
       "      <td>1759.000000</td>\n",
       "    </tr>\n",
       "    <tr>\n",
       "      <th>25%</th>\n",
       "      <td>5277.000000</td>\n",
       "    </tr>\n",
       "    <tr>\n",
       "      <th>50%</th>\n",
       "      <td>8372.000000</td>\n",
       "    </tr>\n",
       "    <tr>\n",
       "      <th>75%</th>\n",
       "      <td>12373.000000</td>\n",
       "    </tr>\n",
       "    <tr>\n",
       "      <th>max</th>\n",
       "      <td>79512.000000</td>\n",
       "    </tr>\n",
       "  </tbody>\n",
       "</table>\n",
       "</div>"
      ],
      "text/plain": [
       "              Price\n",
       "count  10683.000000\n",
       "mean    9087.064121\n",
       "std     4611.359167\n",
       "min     1759.000000\n",
       "25%     5277.000000\n",
       "50%     8372.000000\n",
       "75%    12373.000000\n",
       "max    79512.000000"
      ]
     },
     "execution_count": 5,
     "metadata": {},
     "output_type": "execute_result"
    }
   ],
   "source": [
    "#Basic Data explorations\n",
    "df_.describe()"
   ]
  },
  {
   "cell_type": "code",
   "execution_count": 6,
   "id": "31918d26",
   "metadata": {},
   "outputs": [
    {
     "name": "stdout",
     "output_type": "stream",
     "text": [
      "<class 'pandas.core.frame.DataFrame'>\n",
      "Int64Index: 13354 entries, 0 to 2670\n",
      "Data columns (total 11 columns):\n",
      " #   Column           Non-Null Count  Dtype  \n",
      "---  ------           --------------  -----  \n",
      " 0   Airline          13354 non-null  object \n",
      " 1   Date_of_Journey  13354 non-null  object \n",
      " 2   Source           13354 non-null  object \n",
      " 3   Destination      13354 non-null  object \n",
      " 4   Route            13353 non-null  object \n",
      " 5   Dep_Time         13354 non-null  object \n",
      " 6   Arrival_Time     13354 non-null  object \n",
      " 7   Duration         13354 non-null  object \n",
      " 8   Total_Stops      13353 non-null  object \n",
      " 9   Additional_Info  13354 non-null  object \n",
      " 10  Price            10683 non-null  float64\n",
      "dtypes: float64(1), object(10)\n",
      "memory usage: 1.2+ MB\n"
     ]
    }
   ],
   "source": [
    "df_.info()"
   ]
  },
  {
   "cell_type": "code",
   "execution_count": 7,
   "id": "09876a04",
   "metadata": {},
   "outputs": [
    {
     "data": {
      "text/plain": [
       "(13354, 11)"
      ]
     },
     "execution_count": 7,
     "metadata": {},
     "output_type": "execute_result"
    }
   ],
   "source": [
    "df_.shape"
   ]
  },
  {
   "cell_type": "markdown",
   "id": "e24f3d46",
   "metadata": {},
   "source": [
    "#Feature engineering tasks.\n",
    "1. Seperating date/month/year\n",
    "2. Convert numerical to int.\n",
    "3. Get arrival and dept time right.\n",
    "4. Get total stops as per ML Perspective.\n",
    "5. Convert duration into mins\n",
    "6. Categorical data to one-hot/label-encoding."
   ]
  },
  {
   "cell_type": "code",
   "execution_count": 8,
   "id": "dedd616e",
   "metadata": {},
   "outputs": [
    {
     "data": {
      "text/html": [
       "<div>\n",
       "<style scoped>\n",
       "    .dataframe tbody tr th:only-of-type {\n",
       "        vertical-align: middle;\n",
       "    }\n",
       "\n",
       "    .dataframe tbody tr th {\n",
       "        vertical-align: top;\n",
       "    }\n",
       "\n",
       "    .dataframe thead th {\n",
       "        text-align: right;\n",
       "    }\n",
       "</style>\n",
       "<table border=\"1\" class=\"dataframe\">\n",
       "  <thead>\n",
       "    <tr style=\"text-align: right;\">\n",
       "      <th></th>\n",
       "      <th>Airline</th>\n",
       "      <th>Date_of_Journey</th>\n",
       "      <th>Source</th>\n",
       "      <th>Destination</th>\n",
       "      <th>Route</th>\n",
       "      <th>Dep_Time</th>\n",
       "      <th>Arrival_Time</th>\n",
       "      <th>Duration</th>\n",
       "      <th>Total_Stops</th>\n",
       "      <th>Additional_Info</th>\n",
       "      <th>Price</th>\n",
       "    </tr>\n",
       "  </thead>\n",
       "  <tbody>\n",
       "    <tr>\n",
       "      <th>0</th>\n",
       "      <td>IndiGo</td>\n",
       "      <td>24/03/2019</td>\n",
       "      <td>Banglore</td>\n",
       "      <td>New Delhi</td>\n",
       "      <td>BLR → DEL</td>\n",
       "      <td>22:20</td>\n",
       "      <td>01:10 22 Mar</td>\n",
       "      <td>2h 50m</td>\n",
       "      <td>non-stop</td>\n",
       "      <td>No info</td>\n",
       "      <td>3897.0</td>\n",
       "    </tr>\n",
       "    <tr>\n",
       "      <th>1</th>\n",
       "      <td>Air India</td>\n",
       "      <td>1/05/2019</td>\n",
       "      <td>Kolkata</td>\n",
       "      <td>Banglore</td>\n",
       "      <td>CCU → IXR → BBI → BLR</td>\n",
       "      <td>05:50</td>\n",
       "      <td>13:15</td>\n",
       "      <td>7h 25m</td>\n",
       "      <td>2 stops</td>\n",
       "      <td>No info</td>\n",
       "      <td>7662.0</td>\n",
       "    </tr>\n",
       "  </tbody>\n",
       "</table>\n",
       "</div>"
      ],
      "text/plain": [
       "     Airline Date_of_Journey    Source Destination                  Route  \\\n",
       "0     IndiGo      24/03/2019  Banglore   New Delhi              BLR → DEL   \n",
       "1  Air India       1/05/2019   Kolkata    Banglore  CCU → IXR → BBI → BLR   \n",
       "\n",
       "  Dep_Time  Arrival_Time Duration Total_Stops Additional_Info   Price  \n",
       "0    22:20  01:10 22 Mar   2h 50m    non-stop         No info  3897.0  \n",
       "1    05:50         13:15   7h 25m     2 stops         No info  7662.0  "
      ]
     },
     "execution_count": 8,
     "metadata": {},
     "output_type": "execute_result"
    }
   ],
   "source": [
    "df_.head(2)"
   ]
  },
  {
   "cell_type": "code",
   "execution_count": 9,
   "id": "c8f4f1b3",
   "metadata": {},
   "outputs": [],
   "source": [
    "#Task 1 done\n",
    "df_[\"Day\"]=df_[\"Date_of_Journey\"].str.split(\"/\").str[0].astype(int)\n",
    "df_[\"Month\"]=df_[\"Date_of_Journey\"].str.split(\"/\").str[1].astype(int)\n",
    "df_[\"Year\"]=df_[\"Date_of_Journey\"].str.split(\"/\").str[2].astype(int)\n",
    "df_.drop(columns=\"Date_of_Journey\", inplace=True)"
   ]
  },
  {
   "cell_type": "code",
   "execution_count": 10,
   "id": "d3de5646",
   "metadata": {},
   "outputs": [],
   "source": [
    "#Task 3 Done\n",
    "df_[\"Arrival_Time_Hr\"] = df_[\"Arrival_Time\"].str.split(\" \").str[0].str.split(\":\").str[0].astype(int)\n",
    "df_[\"Arrival_Time_Min\"] = df_[\"Arrival_Time\"].str.split(\" \").str[0].str.split(\":\").str[1].astype(int)\n",
    "df_[\"Dep_Time_Hr\"] = df_[\"Dep_Time\"].str.split(\":\").str[0].astype(int)\n",
    "df_[\"Dep_Time_Min\"] = df_[\"Dep_Time\"].str.split(\":\").str[1].astype(int)\n",
    "df_.drop(columns=[\"Dep_Time\", \"Arrival_Time\"], inplace=True)"
   ]
  },
  {
   "cell_type": "code",
   "execution_count": 11,
   "id": "f295c122",
   "metadata": {},
   "outputs": [],
   "source": [
    "#Task 4 done\n",
    "df_[\"Total_Stops\"].unique()\n",
    "df_[\"Total_Stops\"]=df_[\"Total_Stops\"].map({\"non-stop\":0,\"1 stop\":1,\"2 stops\":2,\"3 stops\":3,\"4 stops\":4,\"nan\":1})"
   ]
  },
  {
   "cell_type": "code",
   "execution_count": 12,
   "id": "5cbbca87",
   "metadata": {},
   "outputs": [
    {
     "data": {
      "text/html": [
       "<div>\n",
       "<style scoped>\n",
       "    .dataframe tbody tr th:only-of-type {\n",
       "        vertical-align: middle;\n",
       "    }\n",
       "\n",
       "    .dataframe tbody tr th {\n",
       "        vertical-align: top;\n",
       "    }\n",
       "\n",
       "    .dataframe thead th {\n",
       "        text-align: right;\n",
       "    }\n",
       "</style>\n",
       "<table border=\"1\" class=\"dataframe\">\n",
       "  <thead>\n",
       "    <tr style=\"text-align: right;\">\n",
       "      <th></th>\n",
       "      <th>Airline</th>\n",
       "      <th>Source</th>\n",
       "      <th>Destination</th>\n",
       "      <th>Route</th>\n",
       "      <th>Duration</th>\n",
       "      <th>Total_Stops</th>\n",
       "      <th>Additional_Info</th>\n",
       "      <th>Price</th>\n",
       "      <th>Day</th>\n",
       "      <th>Month</th>\n",
       "      <th>Year</th>\n",
       "      <th>Arrival_Time_Hr</th>\n",
       "      <th>Arrival_Time_Min</th>\n",
       "      <th>Dep_Time_Hr</th>\n",
       "      <th>Dep_Time_Min</th>\n",
       "    </tr>\n",
       "  </thead>\n",
       "  <tbody>\n",
       "    <tr>\n",
       "      <th>0</th>\n",
       "      <td>IndiGo</td>\n",
       "      <td>Banglore</td>\n",
       "      <td>New Delhi</td>\n",
       "      <td>BLR → DEL</td>\n",
       "      <td>2h 50m</td>\n",
       "      <td>0.0</td>\n",
       "      <td>No info</td>\n",
       "      <td>3897.0</td>\n",
       "      <td>24</td>\n",
       "      <td>3</td>\n",
       "      <td>2019</td>\n",
       "      <td>1</td>\n",
       "      <td>10</td>\n",
       "      <td>22</td>\n",
       "      <td>20</td>\n",
       "    </tr>\n",
       "    <tr>\n",
       "      <th>1</th>\n",
       "      <td>Air India</td>\n",
       "      <td>Kolkata</td>\n",
       "      <td>Banglore</td>\n",
       "      <td>CCU → IXR → BBI → BLR</td>\n",
       "      <td>7h 25m</td>\n",
       "      <td>2.0</td>\n",
       "      <td>No info</td>\n",
       "      <td>7662.0</td>\n",
       "      <td>1</td>\n",
       "      <td>5</td>\n",
       "      <td>2019</td>\n",
       "      <td>13</td>\n",
       "      <td>15</td>\n",
       "      <td>5</td>\n",
       "      <td>50</td>\n",
       "    </tr>\n",
       "  </tbody>\n",
       "</table>\n",
       "</div>"
      ],
      "text/plain": [
       "     Airline    Source Destination                  Route Duration  \\\n",
       "0     IndiGo  Banglore   New Delhi              BLR → DEL   2h 50m   \n",
       "1  Air India   Kolkata    Banglore  CCU → IXR → BBI → BLR   7h 25m   \n",
       "\n",
       "   Total_Stops Additional_Info   Price  Day  Month  Year  Arrival_Time_Hr  \\\n",
       "0          0.0         No info  3897.0   24      3  2019                1   \n",
       "1          2.0         No info  7662.0    1      5  2019               13   \n",
       "\n",
       "   Arrival_Time_Min  Dep_Time_Hr  Dep_Time_Min  \n",
       "0                10           22            20  \n",
       "1                15            5            50  "
      ]
     },
     "execution_count": 12,
     "metadata": {},
     "output_type": "execute_result"
    }
   ],
   "source": [
    "df_.head(2)"
   ]
  },
  {
   "cell_type": "code",
   "execution_count": 13,
   "id": "71c747fa",
   "metadata": {},
   "outputs": [],
   "source": [
    "df_.drop(df_[df_['Duration']=='5m'].index.tolist(),axis=0,inplace=True)"
   ]
  },
  {
   "cell_type": "code",
   "execution_count": 14,
   "id": "88e4c65c",
   "metadata": {},
   "outputs": [],
   "source": [
    "duration_hr_as_min = df_[\"Duration\"].str.split(\" \").str[0].str.replace(\"h\",\"\").astype(int)*60"
   ]
  },
  {
   "cell_type": "code",
   "execution_count": 15,
   "id": "70d8107e",
   "metadata": {},
   "outputs": [
    {
     "data": {
      "text/plain": [
       "2       19h\n",
       "18      23h\n",
       "33      22h\n",
       "44      12h\n",
       "53       3h\n",
       "       ... \n",
       "2588     3h\n",
       "2598    11h\n",
       "2604    10h\n",
       "2607    13h\n",
       "2622     3h\n",
       "Name: Duration, Length: 1283, dtype: object"
      ]
     },
     "execution_count": 15,
     "metadata": {},
     "output_type": "execute_result"
    }
   ],
   "source": [
    "df_[df_[\"Duration\"].str.split(\" \").str[1].str.replace(\"m\",\"\").astype(int, errors=\"ignore\").isnull()][\"Duration\"]"
   ]
  },
  {
   "cell_type": "code",
   "execution_count": 16,
   "id": "1cc4bbef",
   "metadata": {},
   "outputs": [],
   "source": [
    "duration_mins = df_[\"Duration\"].str.split(\" \").str[1].str.replace(\"m\",\"\").astype(int, errors=\"ignore\").replace(np.nan,0).astype(int)"
   ]
  },
  {
   "cell_type": "code",
   "execution_count": 17,
   "id": "c69960ca",
   "metadata": {},
   "outputs": [],
   "source": [
    "#End of task 5\n",
    "df_[\"Duration_in_mins\"] = duration_hr_as_min + duration_mins\n",
    "df_.drop(columns=\"Duration\",axis=1,inplace=True)"
   ]
  },
  {
   "cell_type": "code",
   "execution_count": 20,
   "id": "0baf62a4",
   "metadata": {},
   "outputs": [],
   "source": [
    "#Dropping Route\n",
    "df_.drop(columns=\"Route\",axis=1, inplace=True)"
   ]
  },
  {
   "cell_type": "code",
   "execution_count": 21,
   "id": "24ec6e52",
   "metadata": {},
   "outputs": [],
   "source": [
    "from sklearn.preprocessing import LabelEncoder\n",
    "labelencoder=LabelEncoder()"
   ]
  },
  {
   "cell_type": "code",
   "execution_count": 23,
   "id": "d95ed6e2",
   "metadata": {},
   "outputs": [],
   "source": [
    "df_['Airline']=labelencoder.fit_transform(df_['Airline'])\n",
    "df_['Source']=labelencoder.fit_transform(df_['Source'])\n",
    "df_['Destination']=labelencoder.fit_transform(df_['Destination'])\n",
    "df_['Additional_Info']=labelencoder.fit_transform(df_['Additional_Info'])"
   ]
  },
  {
   "cell_type": "code",
   "execution_count": 24,
   "id": "7800032a",
   "metadata": {},
   "outputs": [
    {
     "name": "stdout",
     "output_type": "stream",
     "text": [
      "<class 'pandas.core.frame.DataFrame'>\n",
      "Int64Index: 13351 entries, 0 to 2670\n",
      "Data columns (total 14 columns):\n",
      " #   Column            Non-Null Count  Dtype  \n",
      "---  ------            --------------  -----  \n",
      " 0   Airline           13351 non-null  int32  \n",
      " 1   Source            13351 non-null  int32  \n",
      " 2   Destination       13351 non-null  int32  \n",
      " 3   Total_Stops       13350 non-null  float64\n",
      " 4   Additional_Info   13351 non-null  int32  \n",
      " 5   Price             10681 non-null  float64\n",
      " 6   Day               13351 non-null  int32  \n",
      " 7   Month             13351 non-null  int32  \n",
      " 8   Year              13351 non-null  int32  \n",
      " 9   Arrival_Time_Hr   13351 non-null  int32  \n",
      " 10  Arrival_Time_Min  13351 non-null  int32  \n",
      " 11  Dep_Time_Hr       13351 non-null  int32  \n",
      " 12  Dep_Time_Min      13351 non-null  int32  \n",
      " 13  Duration_in_mins  13351 non-null  int32  \n",
      "dtypes: float64(2), int32(12)\n",
      "memory usage: 938.7 KB\n"
     ]
    }
   ],
   "source": [
    "df_.info()"
   ]
  },
  {
   "cell_type": "markdown",
   "id": "13d6eed2",
   "metadata": {},
   "source": [
    "The last four columns that we transferred into label encoding, that needs to be one hot encoded as their original values does not imply any order/ranking so making it (1,2,3...) can make it bias.. so in such situation its better to use one_hot_encoding."
   ]
  },
  {
   "cell_type": "code",
   "execution_count": 27,
   "id": "60d99a68",
   "metadata": {},
   "outputs": [],
   "source": [
    "df_1 = pd.get_dummies(df_,columns=[\"Airline\", \"Source\", \"Destination\", \"Additional_Info\"] ,drop_first = True)"
   ]
  },
  {
   "cell_type": "code",
   "execution_count": 30,
   "id": "0aedf298",
   "metadata": {},
   "outputs": [],
   "source": [
    "df_ = pd.concat([df_,df_1],axis=1)"
   ]
  },
  {
   "cell_type": "code",
   "execution_count": 32,
   "id": "cd7901f7",
   "metadata": {},
   "outputs": [],
   "source": [
    "df_.drop(columns=[\"Airline\", \"Source\", \"Destination\", \"Additional_Info\"], axis=1, inplace=True)"
   ]
  },
  {
   "cell_type": "code",
   "execution_count": 34,
   "id": "c0f22bbe",
   "metadata": {},
   "outputs": [
    {
     "name": "stdout",
     "output_type": "stream",
     "text": [
      "<class 'pandas.core.frame.DataFrame'>\n",
      "Int64Index: 13351 entries, 0 to 2670\n",
      "Data columns (total 49 columns):\n",
      " #   Column             Non-Null Count  Dtype  \n",
      "---  ------             --------------  -----  \n",
      " 0   Total_Stops        13350 non-null  float64\n",
      " 1   Price              10681 non-null  float64\n",
      " 2   Day                13351 non-null  int32  \n",
      " 3   Month              13351 non-null  int32  \n",
      " 4   Year               13351 non-null  int32  \n",
      " 5   Arrival_Time_Hr    13351 non-null  int32  \n",
      " 6   Arrival_Time_Min   13351 non-null  int32  \n",
      " 7   Dep_Time_Hr        13351 non-null  int32  \n",
      " 8   Dep_Time_Min       13351 non-null  int32  \n",
      " 9   Duration_in_mins   13351 non-null  int32  \n",
      " 10  Total_Stops        13350 non-null  float64\n",
      " 11  Price              10681 non-null  float64\n",
      " 12  Day                13351 non-null  int32  \n",
      " 13  Month              13351 non-null  int32  \n",
      " 14  Year               13351 non-null  int32  \n",
      " 15  Arrival_Time_Hr    13351 non-null  int32  \n",
      " 16  Arrival_Time_Min   13351 non-null  int32  \n",
      " 17  Dep_Time_Hr        13351 non-null  int32  \n",
      " 18  Dep_Time_Min       13351 non-null  int32  \n",
      " 19  Duration_in_mins   13351 non-null  int32  \n",
      " 20  Airline_1          13351 non-null  uint8  \n",
      " 21  Airline_2          13351 non-null  uint8  \n",
      " 22  Airline_3          13351 non-null  uint8  \n",
      " 23  Airline_4          13351 non-null  uint8  \n",
      " 24  Airline_5          13351 non-null  uint8  \n",
      " 25  Airline_6          13351 non-null  uint8  \n",
      " 26  Airline_7          13351 non-null  uint8  \n",
      " 27  Airline_8          13351 non-null  uint8  \n",
      " 28  Airline_9          13351 non-null  uint8  \n",
      " 29  Airline_10         13351 non-null  uint8  \n",
      " 30  Airline_11         13351 non-null  uint8  \n",
      " 31  Source_1           13351 non-null  uint8  \n",
      " 32  Source_2           13351 non-null  uint8  \n",
      " 33  Source_3           13351 non-null  uint8  \n",
      " 34  Source_4           13351 non-null  uint8  \n",
      " 35  Destination_1      13351 non-null  uint8  \n",
      " 36  Destination_2      13351 non-null  uint8  \n",
      " 37  Destination_3      13351 non-null  uint8  \n",
      " 38  Destination_4      13351 non-null  uint8  \n",
      " 39  Destination_5      13351 non-null  uint8  \n",
      " 40  Additional_Info_1  13351 non-null  uint8  \n",
      " 41  Additional_Info_2  13351 non-null  uint8  \n",
      " 42  Additional_Info_3  13351 non-null  uint8  \n",
      " 43  Additional_Info_4  13351 non-null  uint8  \n",
      " 44  Additional_Info_5  13351 non-null  uint8  \n",
      " 45  Additional_Info_6  13351 non-null  uint8  \n",
      " 46  Additional_Info_7  13351 non-null  uint8  \n",
      " 47  Additional_Info_8  13351 non-null  uint8  \n",
      " 48  Additional_Info_9  13351 non-null  uint8  \n",
      "dtypes: float64(4), int32(16), uint8(29)\n",
      "memory usage: 1.7 MB\n"
     ]
    }
   ],
   "source": [
    "df_.info()"
   ]
  },
  {
   "cell_type": "code",
   "execution_count": null,
   "id": "1c7adb01",
   "metadata": {},
   "outputs": [],
   "source": []
  }
 ],
 "metadata": {
  "kernelspec": {
   "display_name": "Python 3 (ipykernel)",
   "language": "python",
   "name": "python3"
  },
  "language_info": {
   "codemirror_mode": {
    "name": "ipython",
    "version": 3
   },
   "file_extension": ".py",
   "mimetype": "text/x-python",
   "name": "python",
   "nbconvert_exporter": "python",
   "pygments_lexer": "ipython3",
   "version": "3.9.13"
  }
 },
 "nbformat": 4,
 "nbformat_minor": 5
}
