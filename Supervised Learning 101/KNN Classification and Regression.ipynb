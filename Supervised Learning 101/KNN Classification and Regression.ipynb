{
 "cells": [
  {
   "cell_type": "code",
   "execution_count": 1,
   "id": "d28f9751",
   "metadata": {},
   "outputs": [],
   "source": [
    "#Importing libs\n",
    "import pandas as pd\n",
    "import numpy as np\n",
    "import matplotlib.pyplot as plt\n",
    "from sklearn.datasets import make_classification, make_blobs\n",
    "from sklearn.model_selection import train_test_split\n",
    "from sklearn.neighbors import KNeighborsClassifier\n",
    "from sklearn.neighbors import KNeighborsRegressor"
   ]
  },
  {
   "cell_type": "code",
   "execution_count": 2,
   "id": "4d65d8ed",
   "metadata": {},
   "outputs": [],
   "source": [
    "#Making the data\n",
    "X_C2, y_C2 = make_classification(n_samples = 100, n_features=2,\n",
    "                                n_redundant=0, n_informative=2,\n",
    "                                n_clusters_per_class=1, flip_y = 0.1,\n",
    "                                class_sep = 0.5, random_state=0)"
   ]
  },
  {
   "cell_type": "markdown",
   "id": "f37736ab",
   "metadata": {},
   "source": [
    "### Scaling (Preprocessing)"
   ]
  },
  {
   "cell_type": "markdown",
   "id": "0643cba6",
   "metadata": {},
   "source": [
    "Because the KNN classifier predicts the class of a given test observation by identifying the observations that are nearest to it, the scale of the variables matters. Any variables that are on a large scale will have a much larger effect on the distance between the observations, and hence on the KNN classifier, than variables that are on a small scale."
   ]
  },
  {
   "cell_type": "code",
   "execution_count": 3,
   "id": "286d2ef5",
   "metadata": {},
   "outputs": [],
   "source": [
    "#Importing for scaling\n",
    "from sklearn.preprocessing import StandardScaler\n",
    "scaler = StandardScaler()"
   ]
  },
  {
   "cell_type": "code",
   "execution_count": 4,
   "id": "47c1f4e7",
   "metadata": {},
   "outputs": [],
   "source": [
    "X_C2_Scaled = scaler.fit_transform(X_C2)"
   ]
  },
  {
   "cell_type": "markdown",
   "id": "0d86b224",
   "metadata": {},
   "source": [
    "### Classification"
   ]
  },
  {
   "cell_type": "code",
   "execution_count": 5,
   "id": "fde7a749",
   "metadata": {},
   "outputs": [],
   "source": [
    "#Splitting the data\n",
    "X_train, X_test, y_train, y_test = train_test_split(X_C2_Scaled, y_C2, random_state=0)"
   ]
  },
  {
   "cell_type": "code",
   "execution_count": 6,
   "id": "8e237a27",
   "metadata": {},
   "outputs": [
    {
     "data": {
      "text/plain": [
       "array([0, 1, 0, 1, 1, 0, 1, 0, 1, 1, 1, 0, 0, 0, 0, 0, 0, 1, 1, 1, 0, 0,\n",
       "       0, 1, 0])"
      ]
     },
     "execution_count": 6,
     "metadata": {},
     "output_type": "execute_result"
    }
   ],
   "source": [
    "#Defining the model\n",
    "knn = KNeighborsClassifier(n_neighbors=1)\n",
    "#Fitting the model\n",
    "knn.fit(X_train,y_train)\n",
    "#Predicting\n",
    "knn.predict(X_test)"
   ]
  },
  {
   "cell_type": "code",
   "execution_count": 7,
   "id": "3cb5c8e1",
   "metadata": {},
   "outputs": [
    {
     "data": {
      "text/plain": [
       "0.8"
      ]
     },
     "execution_count": 7,
     "metadata": {},
     "output_type": "execute_result"
    }
   ],
   "source": [
    "#Score\n",
    "knn.score(X_test, y_test)"
   ]
  },
  {
   "cell_type": "markdown",
   "id": "36e6e974",
   "metadata": {},
   "source": [
    "### Getting most suitable value of K"
   ]
  },
  {
   "cell_type": "code",
   "execution_count": 8,
   "id": "d898b56b",
   "metadata": {},
   "outputs": [],
   "source": [
    "error_rate = []\n",
    "\n",
    "# Will take some time\n",
    "for i in range(1,40):\n",
    "    \n",
    "    knn = KNeighborsClassifier(n_neighbors=i)\n",
    "    knn.fit(X_train,y_train)\n",
    "    pred_i = knn.predict(X_test)\n",
    "    error_rate.append(np.mean(pred_i != y_test))"
   ]
  },
  {
   "cell_type": "code",
   "execution_count": 9,
   "id": "4ffc2208",
   "metadata": {},
   "outputs": [],
   "source": [
    "#conversion of array -> dataframe\n",
    "curve = pd.DataFrame(error_rate)"
   ]
  },
  {
   "cell_type": "code",
   "execution_count": 10,
   "id": "b0617dc3",
   "metadata": {},
   "outputs": [
    {
     "data": {
      "image/png": "[encoded data removed]",
      "text/plain": [
       "<Figure size 640x480 with 1 Axes>"
      ]
     },
     "metadata": {},
     "output_type": "display_data"
    }
   ],
   "source": [
    "#Plotting the curve \n",
    "curve.plot(marker=\"o\")\n",
    "plt.title('Error Rate vs. K Value')\n",
    "plt.xlabel('K')\n",
    "plt.ylabel('Error Rate')\n",
    "plt.show()"
   ]
  },
  {
   "cell_type": "code",
   "execution_count": 11,
   "id": "f646624c",
   "metadata": {},
   "outputs": [
    {
     "data": {
      "text/plain": [
       "0.84"
      ]
     },
     "execution_count": 11,
     "metadata": {},
     "output_type": "execute_result"
    }
   ],
   "source": [
    "#Defining the model\n",
    "knn = KNeighborsClassifier(n_neighbors=5)\n",
    "#Fitting the model\n",
    "knn.fit(X_train,y_train)\n",
    "#Predicting\n",
    "knn.score(X_test, y_test)"
   ]
  },
  {
   "cell_type": "markdown",
   "id": "f7bcbd4e",
   "metadata": {},
   "source": [
    "### Regression"
   ]
  },
  {
   "cell_type": "code",
   "execution_count": 12,
   "id": "821794ec",
   "metadata": {},
   "outputs": [],
   "source": [
    "#Import for data\n",
    "from sklearn.datasets import make_regression"
   ]
  },
  {
   "cell_type": "code",
   "execution_count": 13,
   "id": "30c895a2",
   "metadata": {},
   "outputs": [],
   "source": [
    "#Making the data\n",
    "X_R1, y_R1 = make_regression(n_samples = 100, n_features=1,\n",
    "                            n_informative=1, bias = 150.0,\n",
    "                            noise = 30, random_state=0)"
   ]
  },
  {
   "cell_type": "code",
   "execution_count": 14,
   "id": "45d079b1",
   "metadata": {},
   "outputs": [],
   "source": [
    "#Scaling the data\n",
    "X_R1_Scaled = scaler.fit_transform(X_R1)"
   ]
  },
  {
   "cell_type": "code",
   "execution_count": 15,
   "id": "ba94b2b2",
   "metadata": {},
   "outputs": [],
   "source": [
    "#Splitting the data\n",
    "X_train, X_test, y_train, y_test = train_test_split(X_R1_Scaled, y_R1, random_state=0)"
   ]
  },
  {
   "cell_type": "code",
   "execution_count": 16,
   "id": "423cdb55",
   "metadata": {},
   "outputs": [
    {
     "data": {
      "text/plain": [
       "array([231.70974697, 148.35572605, 150.58852659, 150.58852659,\n",
       "        72.14859259, 166.50590948, 141.90634426, 235.57098756,\n",
       "       208.25897836, 102.10462746, 191.31852674, 134.50044902,\n",
       "       228.32181403, 148.35572605, 159.16911306, 113.46875166,\n",
       "       144.03646012, 199.23189853, 143.19242433, 166.50590948,\n",
       "       231.70974697, 208.25897836, 128.01545355, 123.14247619,\n",
       "       141.90634426])"
      ]
     },
     "execution_count": 16,
     "metadata": {},
     "output_type": "execute_result"
    }
   ],
   "source": [
    "#Defining the model\n",
    "knn = KNeighborsRegressor(n_neighbors=5)\n",
    "#Fitting the model\n",
    "knn.fit(X_train,y_train)\n",
    "#Predicting\n",
    "knn.predict(X_test)"
   ]
  },
  {
   "cell_type": "code",
   "execution_count": 17,
   "id": "ab09a787",
   "metadata": {},
   "outputs": [
    {
     "data": {
      "text/plain": [
       "0.4246800858234563"
      ]
     },
     "execution_count": 17,
     "metadata": {},
     "output_type": "execute_result"
    }
   ],
   "source": [
    "#Score\n",
    "knn.score(X_test, y_test)"
   ]
  },
  {
   "cell_type": "code",
   "execution_count": null,
   "id": "aec5a694",
   "metadata": {},
   "outputs": [],
   "source": []
  }
 ],
 "metadata": {
  "kernelspec": {
   "display_name": "Python 3 (ipykernel)",
   "language": "python",
   "name": "python3"
  },
  "language_info": {
   "codemirror_mode": {
    "name": "ipython",
    "version": 3
   },
   "file_extension": ".py",
   "mimetype": "text/x-python",
   "name": "python",
   "nbconvert_exporter": "python",
   "pygments_lexer": "ipython3",
   "version": "3.9.21"
  }
 },
 "nbformat": 4,
 "nbformat_minor": 5
}
